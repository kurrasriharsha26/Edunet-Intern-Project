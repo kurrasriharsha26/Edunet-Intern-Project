{
 "cells": [
  {
   "cell_type": "code",
   "execution_count": 22,
   "id": "d305bdb9-78f1-43b3-a239-4fe89101a3b3",
   "metadata": {},
   "outputs": [],
   "source": [
    "import pandas as pd"
   ]
  },
  {
   "cell_type": "code",
   "execution_count": 23,
   "id": "8b6a595f-ae04-48a1-a057-ec832d1652c9",
   "metadata": {},
   "outputs": [],
   "source": [
    "data = pd.read_csv(r\"C:\\Users\\Kurra Sriharsha\\Downloads\\climate.csv.csv\")"
   ]
  },
  {
   "cell_type": "code",
   "execution_count": 4,
   "id": "f7edd71e-7364-4259-8970-0a847b1aab09",
   "metadata": {},
   "outputs": [
    {
     "data": {
      "text/html": [
       "<div>\n",
       "<style scoped>\n",
       "    .dataframe tbody tr th:only-of-type {\n",
       "        vertical-align: middle;\n",
       "    }\n",
       "\n",
       "    .dataframe tbody tr th {\n",
       "        vertical-align: top;\n",
       "    }\n",
       "\n",
       "    .dataframe thead th {\n",
       "        text-align: right;\n",
       "    }\n",
       "</style>\n",
       "<table border=\"1\" class=\"dataframe\">\n",
       "  <thead>\n",
       "    <tr style=\"text-align: right;\">\n",
       "      <th></th>\n",
       "      <th>time</th>\n",
       "      <th>latitude</th>\n",
       "      <th>longitude</th>\n",
       "      <th>HGT_prl</th>\n",
       "      <th>TMP_prl</th>\n",
       "      <th>TMP_2m</th>\n",
       "      <th>APCP_sfc</th>\n",
       "      <th>lat</th>\n",
       "      <th>lon</th>\n",
       "    </tr>\n",
       "  </thead>\n",
       "  <tbody>\n",
       "    <tr>\n",
       "      <th>0</th>\n",
       "      <td>1990-01-01 00:00:00</td>\n",
       "      <td>0</td>\n",
       "      <td>0</td>\n",
       "      <td>5856.0586</td>\n",
       "      <td>291.37073</td>\n",
       "      <td>300.59620</td>\n",
       "      <td>0.226562</td>\n",
       "      <td>5.04</td>\n",
       "      <td>65.04</td>\n",
       "    </tr>\n",
       "    <tr>\n",
       "      <th>1</th>\n",
       "      <td>1990-01-01 00:00:00</td>\n",
       "      <td>0</td>\n",
       "      <td>1</td>\n",
       "      <td>5855.0586</td>\n",
       "      <td>290.87073</td>\n",
       "      <td>300.47120</td>\n",
       "      <td>0.070312</td>\n",
       "      <td>5.04</td>\n",
       "      <td>66.12</td>\n",
       "    </tr>\n",
       "    <tr>\n",
       "      <th>2</th>\n",
       "      <td>1990-01-01 00:00:00</td>\n",
       "      <td>0</td>\n",
       "      <td>2</td>\n",
       "      <td>5854.0586</td>\n",
       "      <td>290.99573</td>\n",
       "      <td>300.65870</td>\n",
       "      <td>0.039062</td>\n",
       "      <td>5.04</td>\n",
       "      <td>67.20</td>\n",
       "    </tr>\n",
       "    <tr>\n",
       "      <th>3</th>\n",
       "      <td>1990-01-01 00:00:00</td>\n",
       "      <td>0</td>\n",
       "      <td>3</td>\n",
       "      <td>5856.0586</td>\n",
       "      <td>290.74573</td>\n",
       "      <td>300.31494</td>\n",
       "      <td>0.140625</td>\n",
       "      <td>5.04</td>\n",
       "      <td>68.28</td>\n",
       "    </tr>\n",
       "    <tr>\n",
       "      <th>4</th>\n",
       "      <td>1990-01-01 00:00:00</td>\n",
       "      <td>0</td>\n",
       "      <td>4</td>\n",
       "      <td>5856.0586</td>\n",
       "      <td>290.87073</td>\n",
       "      <td>300.50244</td>\n",
       "      <td>0.007812</td>\n",
       "      <td>5.04</td>\n",
       "      <td>69.36</td>\n",
       "    </tr>\n",
       "    <tr>\n",
       "      <th>...</th>\n",
       "      <td>...</td>\n",
       "      <td>...</td>\n",
       "      <td>...</td>\n",
       "      <td>...</td>\n",
       "      <td>...</td>\n",
       "      <td>...</td>\n",
       "      <td>...</td>\n",
       "      <td>...</td>\n",
       "      <td>...</td>\n",
       "    </tr>\n",
       "    <tr>\n",
       "      <th>46379003</th>\n",
       "      <td>2020-12-31 18:00:00</td>\n",
       "      <td>31</td>\n",
       "      <td>27</td>\n",
       "      <td>5596.0337</td>\n",
       "      <td>272.47275</td>\n",
       "      <td>251.79704</td>\n",
       "      <td>0.000000</td>\n",
       "      <td>38.52</td>\n",
       "      <td>94.20</td>\n",
       "    </tr>\n",
       "    <tr>\n",
       "      <th>46379004</th>\n",
       "      <td>2020-12-31 18:00:00</td>\n",
       "      <td>31</td>\n",
       "      <td>28</td>\n",
       "      <td>5592.0337</td>\n",
       "      <td>272.01962</td>\n",
       "      <td>245.04704</td>\n",
       "      <td>0.000000</td>\n",
       "      <td>38.52</td>\n",
       "      <td>95.28</td>\n",
       "    </tr>\n",
       "    <tr>\n",
       "      <th>46379005</th>\n",
       "      <td>2020-12-31 18:00:00</td>\n",
       "      <td>31</td>\n",
       "      <td>29</td>\n",
       "      <td>5581.0337</td>\n",
       "      <td>270.06650</td>\n",
       "      <td>251.29704</td>\n",
       "      <td>0.000000</td>\n",
       "      <td>38.52</td>\n",
       "      <td>96.36</td>\n",
       "    </tr>\n",
       "    <tr>\n",
       "      <th>46379006</th>\n",
       "      <td>2020-12-31 18:00:00</td>\n",
       "      <td>31</td>\n",
       "      <td>30</td>\n",
       "      <td>5577.5337</td>\n",
       "      <td>270.01962</td>\n",
       "      <td>250.14080</td>\n",
       "      <td>0.000000</td>\n",
       "      <td>38.52</td>\n",
       "      <td>97.44</td>\n",
       "    </tr>\n",
       "    <tr>\n",
       "      <th>46379007</th>\n",
       "      <td>2020-12-31 18:00:00</td>\n",
       "      <td>31</td>\n",
       "      <td>31</td>\n",
       "      <td>5568.5337</td>\n",
       "      <td>270.06650</td>\n",
       "      <td>246.07830</td>\n",
       "      <td>0.000000</td>\n",
       "      <td>38.52</td>\n",
       "      <td>98.52</td>\n",
       "    </tr>\n",
       "  </tbody>\n",
       "</table>\n",
       "<p>46379008 rows × 9 columns</p>\n",
       "</div>"
      ],
      "text/plain": [
       "                         time  latitude  longitude    HGT_prl    TMP_prl  \\\n",
       "0         1990-01-01 00:00:00         0          0  5856.0586  291.37073   \n",
       "1         1990-01-01 00:00:00         0          1  5855.0586  290.87073   \n",
       "2         1990-01-01 00:00:00         0          2  5854.0586  290.99573   \n",
       "3         1990-01-01 00:00:00         0          3  5856.0586  290.74573   \n",
       "4         1990-01-01 00:00:00         0          4  5856.0586  290.87073   \n",
       "...                       ...       ...        ...        ...        ...   \n",
       "46379003  2020-12-31 18:00:00        31         27  5596.0337  272.47275   \n",
       "46379004  2020-12-31 18:00:00        31         28  5592.0337  272.01962   \n",
       "46379005  2020-12-31 18:00:00        31         29  5581.0337  270.06650   \n",
       "46379006  2020-12-31 18:00:00        31         30  5577.5337  270.01962   \n",
       "46379007  2020-12-31 18:00:00        31         31  5568.5337  270.06650   \n",
       "\n",
       "             TMP_2m  APCP_sfc    lat    lon  \n",
       "0         300.59620  0.226562   5.04  65.04  \n",
       "1         300.47120  0.070312   5.04  66.12  \n",
       "2         300.65870  0.039062   5.04  67.20  \n",
       "3         300.31494  0.140625   5.04  68.28  \n",
       "4         300.50244  0.007812   5.04  69.36  \n",
       "...             ...       ...    ...    ...  \n",
       "46379003  251.79704  0.000000  38.52  94.20  \n",
       "46379004  245.04704  0.000000  38.52  95.28  \n",
       "46379005  251.29704  0.000000  38.52  96.36  \n",
       "46379006  250.14080  0.000000  38.52  97.44  \n",
       "46379007  246.07830  0.000000  38.52  98.52  \n",
       "\n",
       "[46379008 rows x 9 columns]"
      ]
     },
     "execution_count": 4,
     "metadata": {},
     "output_type": "execute_result"
    }
   ],
   "source": [
    "data"
   ]
  },
  {
   "cell_type": "code",
   "execution_count": 16,
   "id": "5dcc35bb-0a57-423a-9d0d-345b8eda2615",
   "metadata": {},
   "outputs": [],
   "source": [
    "data = pd.DataFrame\n"
   ]
  },
  {
   "cell_type": "code",
   "execution_count": 19,
   "id": "6bd4bfac-7e71-4836-9089-493d347b03a7",
   "metadata": {},
   "outputs": [
    {
     "name": "stdout",
     "output_type": "stream",
     "text": [
      "<class 'type'>\n"
     ]
    }
   ],
   "source": [
    "print(type(data))\n"
   ]
  },
  {
   "cell_type": "code",
   "execution_count": 24,
   "id": "c93ca923-2b01-4059-8353-28d30d7bdf0e",
   "metadata": {},
   "outputs": [
    {
     "name": "stdout",
     "output_type": "stream",
     "text": [
      "                  time  latitude  longitude    HGT_prl    TMP_prl     TMP_2m  \\\n",
      "0  1990-01-01 00:00:00         0          0  5856.0586  291.37073  300.59620   \n",
      "1  1990-01-01 00:00:00         0          1  5855.0586  290.87073  300.47120   \n",
      "2  1990-01-01 00:00:00         0          2  5854.0586  290.99573  300.65870   \n",
      "3  1990-01-01 00:00:00         0          3  5856.0586  290.74573  300.31494   \n",
      "4  1990-01-01 00:00:00         0          4  5856.0586  290.87073  300.50244   \n",
      "5  1990-01-01 00:00:00         0          5  5854.0586  290.87073  300.53370   \n",
      "\n",
      "   APCP_sfc   lat    lon  \n",
      "0  0.226562  5.04  65.04  \n",
      "1  0.070312  5.04  66.12  \n",
      "2  0.039062  5.04  67.20  \n",
      "3  0.140625  5.04  68.28  \n",
      "4  0.007812  5.04  69.36  \n",
      "5  0.007812  5.04  70.44  \n"
     ]
    }
   ],
   "source": [
    "print(data.head(6))"
   ]
  },
  {
   "cell_type": "code",
   "execution_count": 6,
   "id": "6a28b17f-1d66-48af-8442-3ba49ece8596",
   "metadata": {},
   "outputs": [
    {
     "name": "stdout",
     "output_type": "stream",
     "text": [
      "                         time  latitude  longitude    HGT_prl    TMP_prl  \\\n",
      "46379002  2020-12-31 18:00:00        31         26  5600.5337  273.20712   \n",
      "46379003  2020-12-31 18:00:00        31         27  5596.0337  272.47275   \n",
      "46379004  2020-12-31 18:00:00        31         28  5592.0337  272.01962   \n",
      "46379005  2020-12-31 18:00:00        31         29  5581.0337  270.06650   \n",
      "46379006  2020-12-31 18:00:00        31         30  5577.5337  270.01962   \n",
      "46379007  2020-12-31 18:00:00        31         31  5568.5337  270.06650   \n",
      "\n",
      "             TMP_2m  APCP_sfc    lat    lon  \n",
      "46379002  252.92204       0.0  38.52  93.12  \n",
      "46379003  251.79704       0.0  38.52  94.20  \n",
      "46379004  245.04704       0.0  38.52  95.28  \n",
      "46379005  251.29704       0.0  38.52  96.36  \n",
      "46379006  250.14080       0.0  38.52  97.44  \n",
      "46379007  246.07830       0.0  38.52  98.52  \n"
     ]
    }
   ],
   "source": [
    "print(data.tail(6))"
   ]
  },
  {
   "cell_type": "code",
   "execution_count": 7,
   "id": "9c9ce058-e1bc-430b-ac0c-029ec7debc56",
   "metadata": {},
   "outputs": [
    {
     "name": "stdout",
     "output_type": "stream",
     "text": [
      "time         0\n",
      "latitude     0\n",
      "longitude    0\n",
      "HGT_prl      0\n",
      "TMP_prl      0\n",
      "TMP_2m       0\n",
      "APCP_sfc     0\n",
      "lat          0\n",
      "lon          0\n",
      "dtype: int64\n"
     ]
    }
   ],
   "source": [
    "#Check for Missing values\n",
    "print(data.isnull().sum())"
   ]
  },
  {
   "cell_type": "code",
   "execution_count": 8,
   "id": "a1859f77-328b-40b1-a263-25ebe3d62e14",
   "metadata": {},
   "outputs": [],
   "source": [
    "data=data.dropna()"
   ]
  },
  {
   "cell_type": "code",
   "execution_count": 9,
   "id": "4000df2f-f639-4439-a157-3a6125ddfb34",
   "metadata": {},
   "outputs": [],
   "source": [
    "#Filling missing values\n",
    "data['TMP_2m'] = data['TMP_2m'].fillna(0)"
   ]
  },
  {
   "cell_type": "code",
   "execution_count": 10,
   "id": "24824f99-4101-45a8-8d81-b70ed39236a0",
   "metadata": {},
   "outputs": [],
   "source": [
    "data['TMP_2m'] = data['TMP_2m'].fillna(data['TMP_2m'].mean())\n"
   ]
  },
  {
   "cell_type": "code",
   "execution_count": 11,
   "id": "4e5bea23-df94-4689-9671-3b346c1ed023",
   "metadata": {},
   "outputs": [],
   "source": [
    "data['TMP_2m'] = data['TMP_2m'].fillna(data['TMP_2m'].median())\n"
   ]
  },
  {
   "cell_type": "code",
   "execution_count": 12,
   "id": "549adfda-e255-4692-9c2e-ea97d18ee055",
   "metadata": {},
   "outputs": [],
   "source": [
    "data['TMP_2m'] = data['TMP_2m'].fillna(data['TMP_2m'].mode()[0])\n"
   ]
  },
  {
   "cell_type": "code",
   "execution_count": 13,
   "id": "f02a6c7e-f77a-4e04-aaf3-c40fd5d05db8",
   "metadata": {},
   "outputs": [],
   "source": [
    "# Example: filling TMP_2m with mean\n",
    "data['TMP_2m'] = data['TMP_2m'].fillna(data['TMP_2m'].mean())\n",
    "\n",
    "# And for all other numeric columns\n",
    "data = data.fillna(data.mean(numeric_only=True))\n"
   ]
  },
  {
   "cell_type": "code",
   "execution_count": 14,
   "id": "d38daa73-9a5c-496d-8a8c-f998eed46254",
   "metadata": {},
   "outputs": [],
   "source": [
    "#Remove duplicates\n",
    "data=data.drop_duplicates"
   ]
  },
  {
   "cell_type": "code",
   "execution_count": 17,
   "id": "72b41b81-c86b-4994-8979-8f2124991f24",
   "metadata": {},
   "outputs": [
    {
     "name": "stdout",
     "output_type": "stream",
     "text": [
      "<property object at 0x000002197C2D3290>\n"
     ]
    }
   ],
   "source": [
    "#check data types\n",
    "print(data.dtypes)"
   ]
  },
  {
   "cell_type": "code",
   "execution_count": 26,
   "id": "76589a93-63cb-4f9c-9c1e-76113e64d1bb",
   "metadata": {},
   "outputs": [],
   "source": [
    "data['time'] = pd.to_datetime(data['time'], errors='coerce')"
   ]
  },
  {
   "cell_type": "code",
   "execution_count": 27,
   "id": "13263fb4-fa66-4c8c-949b-8d9351bc9375",
   "metadata": {},
   "outputs": [],
   "source": [
    "data['latitude'] = data['latitude'].astype(float)\n",
    "data['longitude'] = data['longitude'].astype(float)\n",
    "data['lat'] = data['lat'].astype(float)\n",
    "data['lon'] = data['lon'].astype(float)"
   ]
  },
  {
   "cell_type": "code",
   "execution_count": 28,
   "id": "4d739690-7da0-41b1-9b70-b303dcfacb24",
   "metadata": {},
   "outputs": [],
   "source": [
    "data['HGT_prl']  = data['HGT_prl'].astype(float)\n",
    "data['TMP_prl']  = data['TMP_prl'].astype(float)\n",
    "data['TMP_2m']   = data['TMP_2m'].astype(float)\n",
    "data['APCP_sfc'] = data['APCP_sfc'].astype(float)\n"
   ]
  },
  {
   "cell_type": "code",
   "execution_count": 29,
   "id": "78779d9c-db06-45b2-8333-d2a44a692aa0",
   "metadata": {},
   "outputs": [
    {
     "name": "stdout",
     "output_type": "stream",
     "text": [
      "time         datetime64[ns]\n",
      "latitude            float64\n",
      "longitude           float64\n",
      "HGT_prl             float64\n",
      "TMP_prl             float64\n",
      "TMP_2m              float64\n",
      "APCP_sfc            float64\n",
      "lat                 float64\n",
      "lon                 float64\n",
      "dtype: object\n"
     ]
    }
   ],
   "source": [
    "print(data.dtypes)"
   ]
  },
  {
   "cell_type": "code",
   "execution_count": 30,
   "id": "e6431847-8edd-4e03-841c-a6c36e76e9ee",
   "metadata": {},
   "outputs": [
    {
     "name": "stdout",
     "output_type": "stream",
     "text": [
      "<class 'pandas.core.frame.DataFrame'>\n",
      "RangeIndex: 46379008 entries, 0 to 46379007\n",
      "Data columns (total 9 columns):\n",
      " #   Column     Dtype         \n",
      "---  ------     -----         \n",
      " 0   time       datetime64[ns]\n",
      " 1   latitude   float64       \n",
      " 2   longitude  float64       \n",
      " 3   HGT_prl    float64       \n",
      " 4   TMP_prl    float64       \n",
      " 5   TMP_2m     float64       \n",
      " 6   APCP_sfc   float64       \n",
      " 7   lat        float64       \n",
      " 8   lon        float64       \n",
      "dtypes: datetime64[ns](1), float64(8)\n",
      "memory usage: 3.1 GB\n"
     ]
    }
   ],
   "source": [
    "data.info()"
   ]
  },
  {
   "cell_type": "code",
   "execution_count": 31,
   "id": "8867840f-66c8-4e6d-82d7-c92e36e9e1ad",
   "metadata": {},
   "outputs": [
    {
     "name": "stdout",
     "output_type": "stream",
     "text": [
      "                                time      latitude     longitude  \\\n",
      "count                       46379008  4.637901e+07  4.637901e+07   \n",
      "mean   2005-07-02 09:00:00.000039552  1.550000e+01  1.550000e+01   \n",
      "min              1990-01-01 00:00:00  0.000000e+00  0.000000e+00   \n",
      "25%              1997-10-01 16:30:00  7.750000e+00  7.750000e+00   \n",
      "50%              2005-07-02 09:00:00  1.550000e+01  1.550000e+01   \n",
      "75%              2013-04-02 01:30:00  2.325000e+01  2.325000e+01   \n",
      "max              2020-12-31 18:00:00  3.100000e+01  3.100000e+01   \n",
      "std                              NaN  9.233093e+00  9.233093e+00   \n",
      "\n",
      "            HGT_prl       TMP_prl        TMP_2m      APCP_sfc           lat  \\\n",
      "count  4.637901e+07  4.637901e+07  4.637901e+07  4.637901e+07  4.637901e+07   \n",
      "mean   5.825715e+03  2.917404e+02  2.925953e+02  9.307187e-01  2.178000e+01   \n",
      "min    5.358822e+03  2.501036e+02  2.179969e+02  0.000000e+00  5.040000e+00   \n",
      "25%    5.809663e+03  2.897806e+02  2.859666e+02  0.000000e+00  1.341000e+01   \n",
      "50%    5.850932e+03  2.920625e+02  2.995959e+02  0.000000e+00  2.178000e+01   \n",
      "75%    5.868231e+03  2.943516e+02  3.015704e+02  4.218750e-01  3.015000e+01   \n",
      "max    5.960094e+03  3.179844e+02  3.263971e+02  6.052500e+02  3.852000e+01   \n",
      "std    6.906869e+01  5.832473e+00  1.429415e+01  3.120312e+00  9.971740e+00   \n",
      "\n",
      "                lon  \n",
      "count  4.637901e+07  \n",
      "mean   8.178000e+01  \n",
      "min    6.504000e+01  \n",
      "25%    7.341000e+01  \n",
      "50%    8.178000e+01  \n",
      "75%    9.015000e+01  \n",
      "max    9.852000e+01  \n",
      "std    9.971740e+00  \n"
     ]
    }
   ],
   "source": [
    "print(data.describe())\n"
   ]
  },
  {
   "cell_type": "code",
   "execution_count": 33,
   "id": "fe1d49bc-8ada-4b83-abe5-b3dcbfa71f45",
   "metadata": {},
   "outputs": [
    {
     "name": "stdout",
     "output_type": "stream",
     "text": [
      "Collecting matplotlib\n",
      "  Downloading matplotlib-3.10.6-cp313-cp313-win_amd64.whl.metadata (11 kB)\n",
      "Collecting contourpy>=1.0.1 (from matplotlib)\n",
      "  Downloading contourpy-1.3.3-cp313-cp313-win_amd64.whl.metadata (5.5 kB)\n",
      "Collecting cycler>=0.10 (from matplotlib)\n",
      "  Downloading cycler-0.12.1-py3-none-any.whl.metadata (3.8 kB)\n",
      "Collecting fonttools>=4.22.0 (from matplotlib)\n",
      "  Downloading fonttools-4.59.2-cp313-cp313-win_amd64.whl.metadata (111 kB)\n",
      "Collecting kiwisolver>=1.3.1 (from matplotlib)\n",
      "  Downloading kiwisolver-1.4.9-cp313-cp313-win_amd64.whl.metadata (6.4 kB)\n",
      "Requirement already satisfied: numpy>=1.23 in c:\\users\\kurra sriharsha\\appdata\\local\\programs\\python\\python313\\lib\\site-packages (from matplotlib) (2.3.2)\n",
      "Requirement already satisfied: packaging>=20.0 in c:\\users\\kurra sriharsha\\appdata\\local\\programs\\python\\python313\\lib\\site-packages (from matplotlib) (25.0)\n",
      "Collecting pillow>=8 (from matplotlib)\n",
      "  Downloading pillow-11.3.0-cp313-cp313-win_amd64.whl.metadata (9.2 kB)\n",
      "Collecting pyparsing>=2.3.1 (from matplotlib)\n",
      "  Downloading pyparsing-3.2.3-py3-none-any.whl.metadata (5.0 kB)\n",
      "Requirement already satisfied: python-dateutil>=2.7 in c:\\users\\kurra sriharsha\\appdata\\local\\programs\\python\\python313\\lib\\site-packages (from matplotlib) (2.9.0.post0)\n",
      "Requirement already satisfied: six>=1.5 in c:\\users\\kurra sriharsha\\appdata\\local\\programs\\python\\python313\\lib\\site-packages (from python-dateutil>=2.7->matplotlib) (1.17.0)\n",
      "Downloading matplotlib-3.10.6-cp313-cp313-win_amd64.whl (8.1 MB)\n",
      "   ---------------------------------------- 0.0/8.1 MB ? eta -:--:--\n",
      "   -- ------------------------------------- 0.5/8.1 MB 2.5 MB/s eta 0:00:04\n",
      "   ------ --------------------------------- 1.3/8.1 MB 3.3 MB/s eta 0:00:03\n",
      "   ---------- ----------------------------- 2.1/8.1 MB 3.5 MB/s eta 0:00:02\n",
      "   ---------------- ----------------------- 3.4/8.1 MB 4.0 MB/s eta 0:00:02\n",
      "   -------------------- ------------------- 4.2/8.1 MB 4.0 MB/s eta 0:00:01\n",
      "   ------------------------- -------------- 5.2/8.1 MB 4.1 MB/s eta 0:00:01\n",
      "   ----------------------------- ---------- 6.0/8.1 MB 4.2 MB/s eta 0:00:01\n",
      "   ------------------------------------ --- 7.3/8.1 MB 4.3 MB/s eta 0:00:01\n",
      "   ---------------------------------------- 8.1/8.1 MB 4.4 MB/s  0:00:01\n",
      "Downloading contourpy-1.3.3-cp313-cp313-win_amd64.whl (226 kB)\n",
      "Downloading cycler-0.12.1-py3-none-any.whl (8.3 kB)\n",
      "Downloading fonttools-4.59.2-cp313-cp313-win_amd64.whl (2.3 MB)\n",
      "   ---------------------------------------- 0.0/2.3 MB ? eta -:--:--\n",
      "   --------- ------------------------------ 0.5/2.3 MB 2.7 MB/s eta 0:00:01\n",
      "   ------------------ --------------------- 1.0/2.3 MB 3.0 MB/s eta 0:00:01\n",
      "   -------------------------------- ------- 1.8/2.3 MB 2.9 MB/s eta 0:00:01\n",
      "   ---------------------------------------- 2.3/2.3 MB 2.9 MB/s  0:00:00\n",
      "Downloading kiwisolver-1.4.9-cp313-cp313-win_amd64.whl (73 kB)\n",
      "Downloading pillow-11.3.0-cp313-cp313-win_amd64.whl (7.0 MB)\n",
      "   ---------------------------------------- 0.0/7.0 MB ? eta -:--:--\n",
      "   ---- ----------------------------------- 0.8/7.0 MB 4.3 MB/s eta 0:00:02\n",
      "   --------- ------------------------------ 1.6/7.0 MB 3.9 MB/s eta 0:00:02\n",
      "   ------------ --------------------------- 2.1/7.0 MB 3.9 MB/s eta 0:00:02\n",
      "   ------------------ --------------------- 3.1/7.0 MB 3.8 MB/s eta 0:00:01\n",
      "   ------------------------ --------------- 4.2/7.0 MB 4.0 MB/s eta 0:00:01\n",
      "   --------------------------- ------------ 4.7/7.0 MB 4.1 MB/s eta 0:00:01\n",
      "   ------------------------------ --------- 5.2/7.0 MB 3.6 MB/s eta 0:00:01\n",
      "   --------------------------------- ------ 5.8/7.0 MB 3.6 MB/s eta 0:00:01\n",
      "   ------------------------------------ --- 6.3/7.0 MB 3.4 MB/s eta 0:00:01\n",
      "   ---------------------------------------  6.8/7.0 MB 3.3 MB/s eta 0:00:01\n",
      "   ---------------------------------------- 7.0/7.0 MB 3.2 MB/s  0:00:02\n",
      "Downloading pyparsing-3.2.3-py3-none-any.whl (111 kB)\n",
      "Installing collected packages: pyparsing, pillow, kiwisolver, fonttools, cycler, contourpy, matplotlib\n",
      "\n",
      "   ---------------------------------------- 0/7 [pyparsing]\n",
      "   ----- ---------------------------------- 1/7 [pillow]\n",
      "   ----- ---------------------------------- 1/7 [pillow]\n",
      "   ----- ---------------------------------- 1/7 [pillow]\n",
      "   ----- ---------------------------------- 1/7 [pillow]\n",
      "   ----- ---------------------------------- 1/7 [pillow]\n",
      "   ----- ---------------------------------- 1/7 [pillow]\n",
      "   ----- ---------------------------------- 1/7 [pillow]\n",
      "   ----- ---------------------------------- 1/7 [pillow]\n",
      "   ----------------- ---------------------- 3/7 [fonttools]\n",
      "   ----------------- ---------------------- 3/7 [fonttools]\n",
      "   ----------------- ---------------------- 3/7 [fonttools]\n",
      "   ----------------- ---------------------- 3/7 [fonttools]\n",
      "   ----------------- ---------------------- 3/7 [fonttools]\n",
      "   ----------------- ---------------------- 3/7 [fonttools]\n",
      "   ----------------- ---------------------- 3/7 [fonttools]\n",
      "   ----------------- ---------------------- 3/7 [fonttools]\n",
      "   ----------------- ---------------------- 3/7 [fonttools]\n",
      "   ----------------- ---------------------- 3/7 [fonttools]\n",
      "   ----------------- ---------------------- 3/7 [fonttools]\n",
      "   ----------------- ---------------------- 3/7 [fonttools]\n",
      "   ----------------- ---------------------- 3/7 [fonttools]\n",
      "   ----------------- ---------------------- 3/7 [fonttools]\n",
      "   ----------------- ---------------------- 3/7 [fonttools]\n",
      "   ----------------- ---------------------- 3/7 [fonttools]\n",
      "   ----------------- ---------------------- 3/7 [fonttools]\n",
      "   ----------------- ---------------------- 3/7 [fonttools]\n",
      "   ----------------- ---------------------- 3/7 [fonttools]\n",
      "   ----------------- ---------------------- 3/7 [fonttools]\n",
      "   ----------------- ---------------------- 3/7 [fonttools]\n",
      "   ----------------- ---------------------- 3/7 [fonttools]\n",
      "   ----------------- ---------------------- 3/7 [fonttools]\n",
      "   ---------------------- ----------------- 4/7 [cycler]\n",
      "   ---------------------------- ----------- 5/7 [contourpy]\n",
      "   ---------------------------------- ----- 6/7 [matplotlib]\n",
      "   ---------------------------------- ----- 6/7 [matplotlib]\n",
      "   ---------------------------------- ----- 6/7 [matplotlib]\n",
      "   ---------------------------------- ----- 6/7 [matplotlib]\n",
      "   ---------------------------------- ----- 6/7 [matplotlib]\n",
      "   ---------------------------------- ----- 6/7 [matplotlib]\n",
      "   ---------------------------------- ----- 6/7 [matplotlib]\n",
      "   ---------------------------------- ----- 6/7 [matplotlib]\n",
      "   ---------------------------------- ----- 6/7 [matplotlib]\n",
      "   ---------------------------------- ----- 6/7 [matplotlib]\n",
      "   ---------------------------------- ----- 6/7 [matplotlib]\n",
      "   ---------------------------------- ----- 6/7 [matplotlib]\n",
      "   ---------------------------------- ----- 6/7 [matplotlib]\n",
      "   ---------------------------------- ----- 6/7 [matplotlib]\n",
      "   ---------------------------------- ----- 6/7 [matplotlib]\n",
      "   ---------------------------------- ----- 6/7 [matplotlib]\n",
      "   ---------------------------------- ----- 6/7 [matplotlib]\n",
      "   ---------------------------------- ----- 6/7 [matplotlib]\n",
      "   ---------------------------------- ----- 6/7 [matplotlib]\n",
      "   ---------------------------------- ----- 6/7 [matplotlib]\n",
      "   ---------------------------------- ----- 6/7 [matplotlib]\n",
      "   ---------------------------------- ----- 6/7 [matplotlib]\n",
      "   ---------------------------------- ----- 6/7 [matplotlib]\n",
      "   ---------------------------------- ----- 6/7 [matplotlib]\n",
      "   ---------------------------------- ----- 6/7 [matplotlib]\n",
      "   ---------------------------------- ----- 6/7 [matplotlib]\n",
      "   ---------------------------------- ----- 6/7 [matplotlib]\n",
      "   ---------------------------------- ----- 6/7 [matplotlib]\n",
      "   ---------------------------------- ----- 6/7 [matplotlib]\n",
      "   ---------------------------------- ----- 6/7 [matplotlib]\n",
      "   ---------------------------------- ----- 6/7 [matplotlib]\n",
      "   ---------------------------------- ----- 6/7 [matplotlib]\n",
      "   ---------------------------------- ----- 6/7 [matplotlib]\n",
      "   ---------------------------------------- 7/7 [matplotlib]\n",
      "\n",
      "Successfully installed contourpy-1.3.3 cycler-0.12.1 fonttools-4.59.2 kiwisolver-1.4.9 matplotlib-3.10.6 pillow-11.3.0 pyparsing-3.2.3\n"
     ]
    }
   ],
   "source": [
    "#visualization\n",
    "!pip install matplotlib\n",
    "import matplotlib.pyplot as plt"
   ]
  },
  {
   "cell_type": "code",
   "execution_count": 40,
   "id": "e74c8610-cab8-42b6-a514-0579a1a09d91",
   "metadata": {},
   "outputs": [
    {
     "data": {
      "text/plain": [
       "<Axes: >"
      ]
     },
     "execution_count": 40,
     "metadata": {},
     "output_type": "execute_result"
    }
   ],
   "source": [
    "sampled = data[['TMP_2m', 'HGT_prl', 'APCP_sfc']].sample(n=5000, random_state=42)\n",
    "sampled.boxplot(figsize=(8,6))\n"
   ]
  },
  {
   "cell_type": "code",
   "execution_count": 41,
   "id": "bbedabb0-4a52-4301-8378-6cf458628213",
   "metadata": {},
   "outputs": [
    {
     "data": {
      "text/plain": [
       "<Axes: >"
      ]
     },
     "execution_count": 41,
     "metadata": {},
     "output_type": "execute_result"
    }
   ],
   "source": [
    "data[['TMP_2m', 'HGT_prl', 'APCP_sfc']].iloc[:10000].boxplot(figsize=(8,6))\n"
   ]
  },
  {
   "cell_type": "code",
   "execution_count": 43,
   "id": "6c780b8a-5f43-4337-b362-5442bc19ac2b",
   "metadata": {},
   "outputs": [
    {
     "name": "stdout",
     "output_type": "stream",
     "text": [
      "Collecting seaborn\n",
      "  Downloading seaborn-0.13.2-py3-none-any.whl.metadata (5.4 kB)\n",
      "Requirement already satisfied: numpy!=1.24.0,>=1.20 in c:\\users\\kurra sriharsha\\appdata\\local\\programs\\python\\python313\\lib\\site-packages (from seaborn) (2.3.2)\n",
      "Requirement already satisfied: pandas>=1.2 in c:\\users\\kurra sriharsha\\appdata\\local\\programs\\python\\python313\\lib\\site-packages (from seaborn) (2.3.2)\n",
      "Requirement already satisfied: matplotlib!=3.6.1,>=3.4 in c:\\users\\kurra sriharsha\\appdata\\local\\programs\\python\\python313\\lib\\site-packages (from seaborn) (3.10.6)\n",
      "Requirement already satisfied: contourpy>=1.0.1 in c:\\users\\kurra sriharsha\\appdata\\local\\programs\\python\\python313\\lib\\site-packages (from matplotlib!=3.6.1,>=3.4->seaborn) (1.3.3)\n",
      "Requirement already satisfied: cycler>=0.10 in c:\\users\\kurra sriharsha\\appdata\\local\\programs\\python\\python313\\lib\\site-packages (from matplotlib!=3.6.1,>=3.4->seaborn) (0.12.1)\n",
      "Requirement already satisfied: fonttools>=4.22.0 in c:\\users\\kurra sriharsha\\appdata\\local\\programs\\python\\python313\\lib\\site-packages (from matplotlib!=3.6.1,>=3.4->seaborn) (4.59.2)\n",
      "Requirement already satisfied: kiwisolver>=1.3.1 in c:\\users\\kurra sriharsha\\appdata\\local\\programs\\python\\python313\\lib\\site-packages (from matplotlib!=3.6.1,>=3.4->seaborn) (1.4.9)\n",
      "Requirement already satisfied: packaging>=20.0 in c:\\users\\kurra sriharsha\\appdata\\local\\programs\\python\\python313\\lib\\site-packages (from matplotlib!=3.6.1,>=3.4->seaborn) (25.0)\n",
      "Requirement already satisfied: pillow>=8 in c:\\users\\kurra sriharsha\\appdata\\local\\programs\\python\\python313\\lib\\site-packages (from matplotlib!=3.6.1,>=3.4->seaborn) (11.3.0)\n",
      "Requirement already satisfied: pyparsing>=2.3.1 in c:\\users\\kurra sriharsha\\appdata\\local\\programs\\python\\python313\\lib\\site-packages (from matplotlib!=3.6.1,>=3.4->seaborn) (3.2.3)\n",
      "Requirement already satisfied: python-dateutil>=2.7 in c:\\users\\kurra sriharsha\\appdata\\local\\programs\\python\\python313\\lib\\site-packages (from matplotlib!=3.6.1,>=3.4->seaborn) (2.9.0.post0)\n",
      "Requirement already satisfied: pytz>=2020.1 in c:\\users\\kurra sriharsha\\appdata\\local\\programs\\python\\python313\\lib\\site-packages (from pandas>=1.2->seaborn) (2025.2)\n",
      "Requirement already satisfied: tzdata>=2022.7 in c:\\users\\kurra sriharsha\\appdata\\local\\programs\\python\\python313\\lib\\site-packages (from pandas>=1.2->seaborn) (2025.2)\n",
      "Requirement already satisfied: six>=1.5 in c:\\users\\kurra sriharsha\\appdata\\local\\programs\\python\\python313\\lib\\site-packages (from python-dateutil>=2.7->matplotlib!=3.6.1,>=3.4->seaborn) (1.17.0)\n",
      "Downloading seaborn-0.13.2-py3-none-any.whl (294 kB)\n",
      "Installing collected packages: seaborn\n",
      "Successfully installed seaborn-0.13.2\n"
     ]
    },
    {
     "data": {
      "image/png": "[encoded data removed]",
      "text/plain": [
       "<Figure size 800x600 with 1 Axes>"
      ]
     },
     "metadata": {},
     "output_type": "display_data"
    },
    {
     "data": {
      "image/png": "[encoded data removed]",
      "text/plain": [
       "<Figure size 800x600 with 1 Axes>"
      ]
     },
     "metadata": {},
     "output_type": "display_data"
    },
    {
     "data": {
      "image/png": "[encoded data removed]",
      "text/plain": [
       "<Figure size 800x600 with 1 Axes>"
      ]
     },
     "metadata": {},
     "output_type": "display_data"
    },
    {
     "data": {
      "image/png": "[encoded data removed]",
      "text/plain": [
       "<Figure size 800x600 with 1 Axes>"
      ]
     },
     "metadata": {},
     "output_type": "display_data"
    }
   ],
   "source": [
    "!pip install seaborn\n",
    "import seaborn as sns\n",
    "import matplotlib.pyplot as plt\n",
    "\n",
    "sns.boxplot(data=data.sample(5000)[['TMP_2m','HGT_prl','APCP_sfc']])\n",
    "plt.show()\n"
   ]
  },
  {
   "cell_type": "code",
   "execution_count": 44,
   "id": "84cc6328-1836-4fa3-b007-49653e077166",
   "metadata": {},
   "outputs": [
    {
     "name": "stdout",
     "output_type": "stream",
     "text": [
      "             TMP_2m       HGT_prl      APCP_sfc\n",
      "count  4.637901e+07  4.637901e+07  4.637901e+07\n",
      "mean   2.925953e+02  5.825715e+03  9.307187e-01\n",
      "std    1.429415e+01  6.906869e+01  3.120312e+00\n",
      "min    2.179969e+02  5.358822e+03  0.000000e+00\n",
      "25%    2.859666e+02  5.809663e+03  0.000000e+00\n",
      "50%    2.995959e+02  5.850932e+03  0.000000e+00\n",
      "75%    3.015704e+02  5.868231e+03  4.218750e-01\n",
      "max    3.263971e+02  5.960094e+03  6.052500e+02\n"
     ]
    }
   ],
   "source": [
    "print(data[['TMP_2m','HGT_prl','APCP_sfc']].describe())\n"
   ]
  },
  {
   "cell_type": "code",
   "execution_count": 45,
   "id": "05f3a103-2cea-43b1-888a-59439e1c720c",
   "metadata": {},
   "outputs": [],
   "source": [
    "import numpy as np"
   ]
  },
  {
   "cell_type": "code",
   "execution_count": 46,
   "id": "9cea72cf-cb47-4a68-b701-813583d53399",
   "metadata": {},
   "outputs": [
    {
     "name": "stdout",
     "output_type": "stream",
     "text": [
      "          time  latitude  longitude    HGT_prl    TMP_prl     TMP_2m  \\\n",
      "723 1990-01-01      22.0       19.0  5694.0586  283.13635  248.37743   \n",
      "724 1990-01-01      22.0       20.0  5691.0586  282.18323  245.59618   \n",
      "729 1990-01-01      22.0       25.0  5670.0586  283.66760  248.72118   \n",
      "753 1990-01-01      23.0       17.0  5686.5586  277.49573  243.43993   \n",
      "754 1990-01-01      23.0       18.0  5687.0586  281.99573  245.53368   \n",
      "\n",
      "     APCP_sfc    lat    lon  \n",
      "723  0.019531  28.80  85.56  \n",
      "724  0.019531  28.80  86.64  \n",
      "729  0.015625  28.80  92.04  \n",
      "753  0.003906  29.88  83.40  \n",
      "754  0.000000  29.88  84.48  \n"
     ]
    }
   ],
   "source": [
    "z_scores = (data['TMP_2m'] - data['TMP_2m'].mean()) / data['TMP_2m'].std()\n",
    "outliers = data[np.abs(z_scores) > 3]   # values more than 3 std devs away\n",
    "print(outliers.head())"
   ]
  },
  {
   "cell_type": "code",
   "execution_count": 47,
   "id": "bd53141c-71c5-4f6d-8845-f62611edec75",
   "metadata": {},
   "outputs": [
    {
     "name": "stdout",
     "output_type": "stream",
     "text": [
      "          time  latitude  longitude    HGT_prl    TMP_prl     TMP_2m  \\\n",
      "694 1990-01-01      21.0       22.0  5695.0586  286.38635  262.12744   \n",
      "721 1990-01-01      22.0       17.0  5696.0586  285.71448  257.68994   \n",
      "722 1990-01-01      22.0       18.0  5695.5586  284.98010  250.87743   \n",
      "723 1990-01-01      22.0       19.0  5694.0586  283.13635  248.37743   \n",
      "724 1990-01-01      22.0       20.0  5691.0586  282.18323  245.59618   \n",
      "\n",
      "     APCP_sfc    lat    lon  \n",
      "694  0.000000  27.72  88.80  \n",
      "721  0.000000  28.80  83.40  \n",
      "722  0.000000  28.80  84.48  \n",
      "723  0.019531  28.80  85.56  \n",
      "724  0.019531  28.80  86.64  \n"
     ]
    }
   ],
   "source": [
    "Q1 = data['TMP_2m'].quantile(0.25)\n",
    "Q3 = data['TMP_2m'].quantile(0.75)\n",
    "IQR = Q3 - Q1\n",
    "\n",
    "outliers = data[(data['TMP_2m'] < (Q1 - 1.5 * IQR)) | (data['TMP_2m'] > (Q3 + 1.5 * IQR))]\n",
    "print(outliers.head())"
   ]
  },
  {
   "cell_type": "code",
   "execution_count": null,
   "id": "278efeb8-f60d-4427-8b52-bdfb5b4ccbac",
   "metadata": {},
   "outputs": [],
   "source": [
    "!pip install scikit-learn\n",
    "from sklearn.preprocessing import StandardScaler\n",
    "numeric_cols = data.select_dtypes(include=['number']).columns\n",
    "scaler = StandardScaler()\n",
    "data[numeric_cols] = scaler.fit_transform(data[numeric_cols])\n",
    "print(data.head())"
   ]
  },
  {
   "cell_type": "code",
   "execution_count": 55,
   "id": "18571cdc-59cf-4bfb-8dbb-097526805901",
   "metadata": {},
   "outputs": [
    {
     "name": "stdout",
     "output_type": "stream",
     "text": [
      "                count         mean        std         min         25%  \\\n",
      "latitude   46379008.0    15.500000   9.233093     0.00000     7.75000   \n",
      "longitude  46379008.0    15.500000   9.233093     0.00000     7.75000   \n",
      "HGT_prl    46379008.0  5825.714959  69.068690  5358.82200  5809.66260   \n",
      "TMP_prl    46379008.0   291.740368   5.832473   250.10356   289.78055   \n",
      "TMP_2m     46379008.0   292.595320  14.294151   217.99687   285.96660   \n",
      "APCP_sfc   46379008.0     0.930719   3.120312     0.00000     0.00000   \n",
      "lat        46379008.0    21.780000   9.971740     5.04000    13.41000   \n",
      "lon        46379008.0    81.780000   9.971740    65.04000    73.41000   \n",
      "\n",
      "                 50%          75%         max  \n",
      "latitude     15.5000    23.250000    31.00000  \n",
      "longitude    15.5000    23.250000    31.00000  \n",
      "HGT_prl    5850.9320  5868.231000  5960.09380  \n",
      "TMP_prl     292.0625   294.351560   317.98438  \n",
      "TMP_2m      299.5959   301.570400   326.39713  \n",
      "APCP_sfc      0.0000     0.421875   605.25000  \n",
      "lat          21.7800    30.150000    38.52000  \n",
      "lon          81.7800    90.150000    98.52000  \n"
     ]
    }
   ],
   "source": [
    "# Re-select numeric columns\n",
    "numeric_cols = data.select_dtypes(include=['number']).columns\n",
    "\n",
    "# Show descriptive statistics (transposed for readability)\n",
    "print(data[numeric_cols].describe().T)\n"
   ]
  },
  {
   "cell_type": "code",
   "execution_count": 56,
   "id": "951e029a-1618-4cec-ba6b-584a12cac7bf",
   "metadata": {},
   "outputs": [],
   "source": [
    "#Rename columns and cleaning strings\n",
    "data.columns = (\n",
    "    data.columns\n",
    "    .str.strip()          # remove leading/trailing spaces\n",
    "    .str.lower()          # convert to lowercase\n",
    "    .str.replace(' ', '_')# replace spaces with underscores\n",
    "    .str.replace('[^a-zA-Z0-9_]', '', regex=True)  # remove special chars\n",
    ")\n"
   ]
  },
  {
   "cell_type": "code",
   "execution_count": 57,
   "id": "871f916e-6d7b-4be6-8a0d-1ef542eec1ed",
   "metadata": {},
   "outputs": [],
   "source": [
    "data.columns = (\n",
    "    data.columns\n",
    "    .str.strip()          # remove leading/trailing spaces\n",
    "    .str.lower()          # convert to lowercase\n",
    "    .str.replace(' ', '_')# replace spaces with underscores\n",
    "    .str.replace('[^a-zA-Z0-9_]', '', regex=True)  # remove special chars\n",
    ")\n"
   ]
  },
  {
   "cell_type": "code",
   "execution_count": 59,
   "id": "6ead68a8-d119-40d3-b492-0e6a9f35ae5b",
   "metadata": {},
   "outputs": [
    {
     "name": "stdout",
     "output_type": "stream",
     "text": [
      "Index(['time', 'latitude', 'longitude', 'hgt_prl', 'tmp_prl', 'tmp_2m',\n",
      "       'apcp_sfc', 'lat', 'lon'],\n",
      "      dtype='object')\n"
     ]
    }
   ],
   "source": [
    "print(data.columns)"
   ]
  },
  {
   "cell_type": "code",
   "execution_count": 62,
   "id": "b7841fd7-ea7c-43ef-84c7-95bfb5047bc1",
   "metadata": {},
   "outputs": [
    {
     "name": "stdout",
     "output_type": "stream",
     "text": [
      "Index(['latitude', 'longitude', 'hgt_prl', 'tmp_prl', 'tmp_2m', 'apcp_sfc',\n",
      "       'lat', 'lon'],\n",
      "      dtype='object')\n"
     ]
    }
   ],
   "source": [
    "numeric_cols = data.select_dtypes(include=['number']).columns\n",
    "print(numeric_cols)\n"
   ]
  },
  {
   "cell_type": "code",
   "execution_count": 64,
   "id": "2edc43ed-038f-4e6b-947b-cd7f42f1d98f",
   "metadata": {},
   "outputs": [
    {
     "name": "stdout",
     "output_type": "stream",
     "text": [
      "Index(['time', 'latitude', 'longitude', 'hgt_prl', 'tmp_prl', 'tmp_2m',\n",
      "       'apcp_sfc', 'lat', 'lon'],\n",
      "      dtype='object')\n"
     ]
    }
   ],
   "source": [
    "print(data.columns)\n"
   ]
  },
  {
   "cell_type": "code",
   "execution_count": 65,
   "id": "20b665f5-8a6d-4212-982b-0c8dbc3d7635",
   "metadata": {},
   "outputs": [],
   "source": [
    "data['city'] = data['lat'].astype(str) + \"_\" + data['lon'].astype(str)\n",
    "le = LabelEncoder()\n",
    "data['city_encoded'] = le.fit_transform(data['city'])\n"
   ]
  },
  {
   "cell_type": "code",
   "execution_count": 66,
   "id": "e7625fda-eef2-487c-bbff-a025c9acbf17",
   "metadata": {},
   "outputs": [
    {
     "name": "stdout",
     "output_type": "stream",
     "text": [
      "    lat    lon        city  city_encoded\n",
      "0  5.04  65.04  5.04_65.04           864\n",
      "1  5.04  66.12  5.04_66.12           865\n",
      "2  5.04  67.20   5.04_67.2           866\n",
      "3  5.04  68.28  5.04_68.28           867\n",
      "4  5.04  69.36  5.04_69.36           868\n"
     ]
    }
   ],
   "source": [
    "from sklearn.preprocessing import LabelEncoder\n",
    "\n",
    "# Create city column from lat + lon\n",
    "data['city'] = data['lat'].astype(str) + \"_\" + data['lon'].astype(str)\n",
    "\n",
    "# Encode city into numeric values\n",
    "le = LabelEncoder()\n",
    "data['city_encoded'] = le.fit_transform(data['city'])\n",
    "\n",
    "print(data[['lat', 'lon', 'city', 'city_encoded']].head())\n"
   ]
  }
 ],
 "metadata": {
  "kernelspec": {
   "display_name": "Python 3 (ipykernel)",
   "language": "python",
   "name": "python3"
  },
  "language_info": {
   "codemirror_mode": {
    "name": "ipython",
    "version": 3
   },
   "file_extension": ".py",
   "mimetype": "text/x-python",
   "name": "python",
   "nbconvert_exporter": "python",
   "pygments_lexer": "ipython3",
   "version": "3.13.7"
  }
 },
 "nbformat": 4,
 "nbformat_minor": 5
}
