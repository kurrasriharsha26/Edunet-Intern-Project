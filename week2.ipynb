{
 "cells": [
  {
   "cell_type": "code",
   "execution_count": 3,
   "id": "bd396e59-e8b4-427e-a058-a812b4700ec2",
   "metadata": {},
   "outputs": [],
   "source": [
    "import pandas as pd"
   ]
  },
  {
   "cell_type": "code",
   "execution_count": 4,
   "id": "4b149c5d-7d4c-4426-989d-2a8de8831452",
   "metadata": {},
   "outputs": [],
   "source": [
    "data = pd.read_csv(r\"C:\\Users\\Kurra Sriharsha\\Downloads\\climate.csv.csv\")"
   ]
  },
  {
   "cell_type": "code",
   "execution_count": 5,
   "id": "b3ce9fe9-9446-4fb5-9854-4ed64066c455",
   "metadata": {},
   "outputs": [
    {
     "data": {
      "text/html": [
       "<div>\n",
       "<style scoped>\n",
       "    .dataframe tbody tr th:only-of-type {\n",
       "        vertical-align: middle;\n",
       "    }\n",
       "\n",
       "    .dataframe tbody tr th {\n",
       "        vertical-align: top;\n",
       "    }\n",
       "\n",
       "    .dataframe thead th {\n",
       "        text-align: right;\n",
       "    }\n",
       "</style>\n",
       "<table border=\"1\" class=\"dataframe\">\n",
       "  <thead>\n",
       "    <tr style=\"text-align: right;\">\n",
       "      <th></th>\n",
       "      <th>time</th>\n",
       "      <th>latitude</th>\n",
       "      <th>longitude</th>\n",
       "      <th>HGT_prl</th>\n",
       "      <th>TMP_prl</th>\n",
       "      <th>TMP_2m</th>\n",
       "      <th>APCP_sfc</th>\n",
       "      <th>lat</th>\n",
       "      <th>lon</th>\n",
       "    </tr>\n",
       "  </thead>\n",
       "  <tbody>\n",
       "    <tr>\n",
       "      <th>0</th>\n",
       "      <td>1990-01-01 00:00:00</td>\n",
       "      <td>0</td>\n",
       "      <td>0</td>\n",
       "      <td>5856.0586</td>\n",
       "      <td>291.37073</td>\n",
       "      <td>300.59620</td>\n",
       "      <td>0.226562</td>\n",
       "      <td>5.04</td>\n",
       "      <td>65.04</td>\n",
       "    </tr>\n",
       "    <tr>\n",
       "      <th>1</th>\n",
       "      <td>1990-01-01 00:00:00</td>\n",
       "      <td>0</td>\n",
       "      <td>1</td>\n",
       "      <td>5855.0586</td>\n",
       "      <td>290.87073</td>\n",
       "      <td>300.47120</td>\n",
       "      <td>0.070312</td>\n",
       "      <td>5.04</td>\n",
       "      <td>66.12</td>\n",
       "    </tr>\n",
       "    <tr>\n",
       "      <th>2</th>\n",
       "      <td>1990-01-01 00:00:00</td>\n",
       "      <td>0</td>\n",
       "      <td>2</td>\n",
       "      <td>5854.0586</td>\n",
       "      <td>290.99573</td>\n",
       "      <td>300.65870</td>\n",
       "      <td>0.039062</td>\n",
       "      <td>5.04</td>\n",
       "      <td>67.20</td>\n",
       "    </tr>\n",
       "    <tr>\n",
       "      <th>3</th>\n",
       "      <td>1990-01-01 00:00:00</td>\n",
       "      <td>0</td>\n",
       "      <td>3</td>\n",
       "      <td>5856.0586</td>\n",
       "      <td>290.74573</td>\n",
       "      <td>300.31494</td>\n",
       "      <td>0.140625</td>\n",
       "      <td>5.04</td>\n",
       "      <td>68.28</td>\n",
       "    </tr>\n",
       "    <tr>\n",
       "      <th>4</th>\n",
       "      <td>1990-01-01 00:00:00</td>\n",
       "      <td>0</td>\n",
       "      <td>4</td>\n",
       "      <td>5856.0586</td>\n",
       "      <td>290.87073</td>\n",
       "      <td>300.50244</td>\n",
       "      <td>0.007812</td>\n",
       "      <td>5.04</td>\n",
       "      <td>69.36</td>\n",
       "    </tr>\n",
       "    <tr>\n",
       "      <th>...</th>\n",
       "      <td>...</td>\n",
       "      <td>...</td>\n",
       "      <td>...</td>\n",
       "      <td>...</td>\n",
       "      <td>...</td>\n",
       "      <td>...</td>\n",
       "      <td>...</td>\n",
       "      <td>...</td>\n",
       "      <td>...</td>\n",
       "    </tr>\n",
       "    <tr>\n",
       "      <th>46379003</th>\n",
       "      <td>2020-12-31 18:00:00</td>\n",
       "      <td>31</td>\n",
       "      <td>27</td>\n",
       "      <td>5596.0337</td>\n",
       "      <td>272.47275</td>\n",
       "      <td>251.79704</td>\n",
       "      <td>0.000000</td>\n",
       "      <td>38.52</td>\n",
       "      <td>94.20</td>\n",
       "    </tr>\n",
       "    <tr>\n",
       "      <th>46379004</th>\n",
       "      <td>2020-12-31 18:00:00</td>\n",
       "      <td>31</td>\n",
       "      <td>28</td>\n",
       "      <td>5592.0337</td>\n",
       "      <td>272.01962</td>\n",
       "      <td>245.04704</td>\n",
       "      <td>0.000000</td>\n",
       "      <td>38.52</td>\n",
       "      <td>95.28</td>\n",
       "    </tr>\n",
       "    <tr>\n",
       "      <th>46379005</th>\n",
       "      <td>2020-12-31 18:00:00</td>\n",
       "      <td>31</td>\n",
       "      <td>29</td>\n",
       "      <td>5581.0337</td>\n",
       "      <td>270.06650</td>\n",
       "      <td>251.29704</td>\n",
       "      <td>0.000000</td>\n",
       "      <td>38.52</td>\n",
       "      <td>96.36</td>\n",
       "    </tr>\n",
       "    <tr>\n",
       "      <th>46379006</th>\n",
       "      <td>2020-12-31 18:00:00</td>\n",
       "      <td>31</td>\n",
       "      <td>30</td>\n",
       "      <td>5577.5337</td>\n",
       "      <td>270.01962</td>\n",
       "      <td>250.14080</td>\n",
       "      <td>0.000000</td>\n",
       "      <td>38.52</td>\n",
       "      <td>97.44</td>\n",
       "    </tr>\n",
       "    <tr>\n",
       "      <th>46379007</th>\n",
       "      <td>2020-12-31 18:00:00</td>\n",
       "      <td>31</td>\n",
       "      <td>31</td>\n",
       "      <td>5568.5337</td>\n",
       "      <td>270.06650</td>\n",
       "      <td>246.07830</td>\n",
       "      <td>0.000000</td>\n",
       "      <td>38.52</td>\n",
       "      <td>98.52</td>\n",
       "    </tr>\n",
       "  </tbody>\n",
       "</table>\n",
       "<p>46379008 rows × 9 columns</p>\n",
       "</div>"
      ],
      "text/plain": [
       "                         time  latitude  longitude    HGT_prl    TMP_prl  \\\n",
       "0         1990-01-01 00:00:00         0          0  5856.0586  291.37073   \n",
       "1         1990-01-01 00:00:00         0          1  5855.0586  290.87073   \n",
       "2         1990-01-01 00:00:00         0          2  5854.0586  290.99573   \n",
       "3         1990-01-01 00:00:00         0          3  5856.0586  290.74573   \n",
       "4         1990-01-01 00:00:00         0          4  5856.0586  290.87073   \n",
       "...                       ...       ...        ...        ...        ...   \n",
       "46379003  2020-12-31 18:00:00        31         27  5596.0337  272.47275   \n",
       "46379004  2020-12-31 18:00:00        31         28  5592.0337  272.01962   \n",
       "46379005  2020-12-31 18:00:00        31         29  5581.0337  270.06650   \n",
       "46379006  2020-12-31 18:00:00        31         30  5577.5337  270.01962   \n",
       "46379007  2020-12-31 18:00:00        31         31  5568.5337  270.06650   \n",
       "\n",
       "             TMP_2m  APCP_sfc    lat    lon  \n",
       "0         300.59620  0.226562   5.04  65.04  \n",
       "1         300.47120  0.070312   5.04  66.12  \n",
       "2         300.65870  0.039062   5.04  67.20  \n",
       "3         300.31494  0.140625   5.04  68.28  \n",
       "4         300.50244  0.007812   5.04  69.36  \n",
       "...             ...       ...    ...    ...  \n",
       "46379003  251.79704  0.000000  38.52  94.20  \n",
       "46379004  245.04704  0.000000  38.52  95.28  \n",
       "46379005  251.29704  0.000000  38.52  96.36  \n",
       "46379006  250.14080  0.000000  38.52  97.44  \n",
       "46379007  246.07830  0.000000  38.52  98.52  \n",
       "\n",
       "[46379008 rows x 9 columns]"
      ]
     },
     "execution_count": 5,
     "metadata": {},
     "output_type": "execute_result"
    }
   ],
   "source": [
    "data"
   ]
  },
  {
   "cell_type": "code",
   "execution_count": 6,
   "id": "6787dba1-6011-4550-a6be-69631ee87288",
   "metadata": {},
   "outputs": [
    {
     "name": "stdout",
     "output_type": "stream",
     "text": [
      "<class 'pandas.core.frame.DataFrame'>\n",
      "RangeIndex: 46379008 entries, 0 to 46379007\n",
      "Data columns (total 9 columns):\n",
      " #   Column     Dtype  \n",
      "---  ------     -----  \n",
      " 0   time       object \n",
      " 1   latitude   int64  \n",
      " 2   longitude  int64  \n",
      " 3   HGT_prl    float64\n",
      " 4   TMP_prl    float64\n",
      " 5   TMP_2m     float64\n",
      " 6   APCP_sfc   float64\n",
      " 7   lat        float64\n",
      " 8   lon        float64\n",
      "dtypes: float64(6), int64(2), object(1)\n",
      "memory usage: 3.1+ GB\n"
     ]
    },
    {
     "data": {
      "text/html": [
       "<div>\n",
       "<style scoped>\n",
       "    .dataframe tbody tr th:only-of-type {\n",
       "        vertical-align: middle;\n",
       "    }\n",
       "\n",
       "    .dataframe tbody tr th {\n",
       "        vertical-align: top;\n",
       "    }\n",
       "\n",
       "    .dataframe thead th {\n",
       "        text-align: right;\n",
       "    }\n",
       "</style>\n",
       "<table border=\"1\" class=\"dataframe\">\n",
       "  <thead>\n",
       "    <tr style=\"text-align: right;\">\n",
       "      <th></th>\n",
       "      <th>latitude</th>\n",
       "      <th>longitude</th>\n",
       "      <th>HGT_prl</th>\n",
       "      <th>TMP_prl</th>\n",
       "      <th>TMP_2m</th>\n",
       "      <th>APCP_sfc</th>\n",
       "      <th>lat</th>\n",
       "      <th>lon</th>\n",
       "    </tr>\n",
       "  </thead>\n",
       "  <tbody>\n",
       "    <tr>\n",
       "      <th>count</th>\n",
       "      <td>4.637901e+07</td>\n",
       "      <td>4.637901e+07</td>\n",
       "      <td>4.637901e+07</td>\n",
       "      <td>4.637901e+07</td>\n",
       "      <td>4.637901e+07</td>\n",
       "      <td>4.637901e+07</td>\n",
       "      <td>4.637901e+07</td>\n",
       "      <td>4.637901e+07</td>\n",
       "    </tr>\n",
       "    <tr>\n",
       "      <th>mean</th>\n",
       "      <td>1.550000e+01</td>\n",
       "      <td>1.550000e+01</td>\n",
       "      <td>5.825715e+03</td>\n",
       "      <td>2.917404e+02</td>\n",
       "      <td>2.925953e+02</td>\n",
       "      <td>9.307187e-01</td>\n",
       "      <td>2.178000e+01</td>\n",
       "      <td>8.178000e+01</td>\n",
       "    </tr>\n",
       "    <tr>\n",
       "      <th>std</th>\n",
       "      <td>9.233093e+00</td>\n",
       "      <td>9.233093e+00</td>\n",
       "      <td>6.906869e+01</td>\n",
       "      <td>5.832473e+00</td>\n",
       "      <td>1.429415e+01</td>\n",
       "      <td>3.120312e+00</td>\n",
       "      <td>9.971740e+00</td>\n",
       "      <td>9.971740e+00</td>\n",
       "    </tr>\n",
       "    <tr>\n",
       "      <th>min</th>\n",
       "      <td>0.000000e+00</td>\n",
       "      <td>0.000000e+00</td>\n",
       "      <td>5.358822e+03</td>\n",
       "      <td>2.501036e+02</td>\n",
       "      <td>2.179969e+02</td>\n",
       "      <td>0.000000e+00</td>\n",
       "      <td>5.040000e+00</td>\n",
       "      <td>6.504000e+01</td>\n",
       "    </tr>\n",
       "    <tr>\n",
       "      <th>25%</th>\n",
       "      <td>7.750000e+00</td>\n",
       "      <td>7.750000e+00</td>\n",
       "      <td>5.809663e+03</td>\n",
       "      <td>2.897806e+02</td>\n",
       "      <td>2.859666e+02</td>\n",
       "      <td>0.000000e+00</td>\n",
       "      <td>1.341000e+01</td>\n",
       "      <td>7.341000e+01</td>\n",
       "    </tr>\n",
       "    <tr>\n",
       "      <th>50%</th>\n",
       "      <td>1.550000e+01</td>\n",
       "      <td>1.550000e+01</td>\n",
       "      <td>5.850932e+03</td>\n",
       "      <td>2.920625e+02</td>\n",
       "      <td>2.995959e+02</td>\n",
       "      <td>0.000000e+00</td>\n",
       "      <td>2.178000e+01</td>\n",
       "      <td>8.178000e+01</td>\n",
       "    </tr>\n",
       "    <tr>\n",
       "      <th>75%</th>\n",
       "      <td>2.325000e+01</td>\n",
       "      <td>2.325000e+01</td>\n",
       "      <td>5.868231e+03</td>\n",
       "      <td>2.943516e+02</td>\n",
       "      <td>3.015704e+02</td>\n",
       "      <td>4.218750e-01</td>\n",
       "      <td>3.015000e+01</td>\n",
       "      <td>9.015000e+01</td>\n",
       "    </tr>\n",
       "    <tr>\n",
       "      <th>max</th>\n",
       "      <td>3.100000e+01</td>\n",
       "      <td>3.100000e+01</td>\n",
       "      <td>5.960094e+03</td>\n",
       "      <td>3.179844e+02</td>\n",
       "      <td>3.263971e+02</td>\n",
       "      <td>6.052500e+02</td>\n",
       "      <td>3.852000e+01</td>\n",
       "      <td>9.852000e+01</td>\n",
       "    </tr>\n",
       "  </tbody>\n",
       "</table>\n",
       "</div>"
      ],
      "text/plain": [
       "           latitude     longitude       HGT_prl       TMP_prl        TMP_2m  \\\n",
       "count  4.637901e+07  4.637901e+07  4.637901e+07  4.637901e+07  4.637901e+07   \n",
       "mean   1.550000e+01  1.550000e+01  5.825715e+03  2.917404e+02  2.925953e+02   \n",
       "std    9.233093e+00  9.233093e+00  6.906869e+01  5.832473e+00  1.429415e+01   \n",
       "min    0.000000e+00  0.000000e+00  5.358822e+03  2.501036e+02  2.179969e+02   \n",
       "25%    7.750000e+00  7.750000e+00  5.809663e+03  2.897806e+02  2.859666e+02   \n",
       "50%    1.550000e+01  1.550000e+01  5.850932e+03  2.920625e+02  2.995959e+02   \n",
       "75%    2.325000e+01  2.325000e+01  5.868231e+03  2.943516e+02  3.015704e+02   \n",
       "max    3.100000e+01  3.100000e+01  5.960094e+03  3.179844e+02  3.263971e+02   \n",
       "\n",
       "           APCP_sfc           lat           lon  \n",
       "count  4.637901e+07  4.637901e+07  4.637901e+07  \n",
       "mean   9.307187e-01  2.178000e+01  8.178000e+01  \n",
       "std    3.120312e+00  9.971740e+00  9.971740e+00  \n",
       "min    0.000000e+00  5.040000e+00  6.504000e+01  \n",
       "25%    0.000000e+00  1.341000e+01  7.341000e+01  \n",
       "50%    0.000000e+00  2.178000e+01  8.178000e+01  \n",
       "75%    4.218750e-01  3.015000e+01  9.015000e+01  \n",
       "max    6.052500e+02  3.852000e+01  9.852000e+01  "
      ]
     },
     "execution_count": 6,
     "metadata": {},
     "output_type": "execute_result"
    }
   ],
   "source": [
    "data.info()\n",
    "data.describe()"
   ]
  },
  {
   "cell_type": "code",
   "execution_count": 7,
   "id": "61cef81f-8140-4f01-b27a-237c9cd2c5a6",
   "metadata": {},
   "outputs": [
    {
     "name": "stdout",
     "output_type": "stream",
     "text": [
      "time         0\n",
      "latitude     0\n",
      "longitude    0\n",
      "HGT_prl      0\n",
      "TMP_prl      0\n",
      "TMP_2m       0\n",
      "APCP_sfc     0\n",
      "lat          0\n",
      "lon          0\n",
      "dtype: int64\n",
      "Duplicates: 0\n"
     ]
    }
   ],
   "source": [
    "# Check nulls and duplicates\n",
    "print(data.isnull().sum())\n",
    "print(f\"Duplicates: {data.duplicated().sum()}\")"
   ]
  },
  {
   "cell_type": "code",
   "execution_count": 8,
   "id": "ac92fa3f-628c-434b-8aba-01af9b5b356d",
   "metadata": {},
   "outputs": [],
   "source": [
    "# Distribution plots\n",
    "import matplotlib.pyplot as plt\n",
    "import seaborn as sns\n"
   ]
  },
  {
   "cell_type": "code",
   "execution_count": 9,
   "id": "35f86a6d-d0a2-4844-9a80-2e926a04f910",
   "metadata": {},
   "outputs": [
    {
     "data": {
      "image/png": "[encoded data removed]",
      "text/plain": [
       "<Figure size 1200x800 with 9 Axes>"
      ]
     },
     "metadata": {},
     "output_type": "display_data"
    }
   ],
   "source": [
    "# Histograms\n",
    "data.hist(figsize=(12,8))\n",
    "plt.show()"
   ]
  },
  {
   "cell_type": "code",
   "execution_count": 10,
   "id": "61713619-23e2-464d-a71d-9567f89dd1cb",
   "metadata": {},
   "outputs": [
    {
     "data": {
      "text/plain": [
       "<Figure size 1000x600 with 0 Axes>"
      ]
     },
     "execution_count": 10,
     "metadata": {},
     "output_type": "execute_result"
    },
    {
     "data": {
      "text/plain": [
       "<Figure size 1000x600 with 0 Axes>"
      ]
     },
     "metadata": {},
     "output_type": "display_data"
    }
   ],
   "source": [
    "# Correlation heatmap\n",
    "plt.figure(figsize=(10,6))"
   ]
  },
  {
   "cell_type": "code",
   "execution_count": 11,
   "id": "d2948f6f-85af-412c-9dda-d6b3da87635f",
   "metadata": {},
   "outputs": [
    {
     "data": {
      "image/png": "[encoded data removed]",
      "text/plain": [
       "<Figure size 640x480 with 2 Axes>"
      ]
     },
     "metadata": {},
     "output_type": "display_data"
    }
   ],
   "source": [
    "sns.heatmap(data.select_dtypes(include=['int64','float64']).corr(), annot=True, cmap=\"coolwarm\")\n",
    "plt.show()"
   ]
  },
  {
   "cell_type": "code",
   "execution_count": 12,
   "id": "092245e7-c589-4cca-a470-98aa7b4bafed",
   "metadata": {},
   "outputs": [],
   "source": [
    "from sklearn.preprocessing import LabelEncoder, StandardScaler\n"
   ]
  },
  {
   "cell_type": "code",
   "execution_count": 13,
   "id": "f4472bed-82c9-45df-a8d9-f8123b19519f",
   "metadata": {},
   "outputs": [],
   "source": [
    "# Example categorical encoding\n",
    "le = LabelEncoder()\n",
    "for col in data.select_dtypes(include=['object']).columns:\n",
    "    data[col] = le.fit_transform(data[col].astype(str))"
   ]
  },
  {
   "cell_type": "code",
   "execution_count": 15,
   "id": "bf7dbd53-c6e3-4603-8cdd-612bdc838509",
   "metadata": {},
   "outputs": [],
   "source": [
    "# Fill missing values\n",
    "data.fillna(data.median(), inplace=True)"
   ]
  },
  {
   "cell_type": "code",
   "execution_count": 16,
   "id": "63d80ba5-a555-4c0c-84b3-9bf4469a5322",
   "metadata": {},
   "outputs": [],
   "source": [
    "# Standardization\n",
    "scaler = StandardScaler()\n",
    "num_cols = data.select_dtypes(include=['int64','float64']).columns\n",
    "data[num_cols] = scaler.fit_transform(data[num_cols])"
   ]
  },
  {
   "cell_type": "code",
   "execution_count": 17,
   "id": "7bb51866-27b3-40fc-8159-8bd3072b826e",
   "metadata": {},
   "outputs": [],
   "source": [
    "from sklearn.feature_selection import VarianceThreshold, SelectKBest, chi2\n",
    "from sklearn.ensemble import RandomForestClassifier\n"
   ]
  },
  {
   "cell_type": "code",
   "execution_count": 18,
   "id": "ddcc8a70-85c8-423e-b39e-4d101d8dcf08",
   "metadata": {},
   "outputs": [],
   "source": [
    "# Variance threshold\n",
    "selector = VarianceThreshold(threshold=0.01)\n",
    "data_reduced = selector.fit_transform(data)\n"
   ]
  },
  {
   "cell_type": "code",
   "execution_count": 19,
   "id": "db70bd1e-0686-493a-9692-28206a230d9e",
   "metadata": {},
   "outputs": [],
   "source": [
    "# Define features and target\n",
    "X = data.drop(['time', 'TMP_2m'], axis=1)   # all columns except time & target\n",
    "y = data['TMP_2m']"
   ]
  },
  {
   "cell_type": "code",
   "execution_count": 22,
   "id": "66146e4f-6b29-4d38-aeae-2140c9be48f8",
   "metadata": {},
   "outputs": [
    {
     "name": "stdout",
     "output_type": "stream",
     "text": [
      "latitude     0.345414\n",
      "lat          0.274848\n",
      "TMP_prl      0.226473\n",
      "lon          0.065227\n",
      "longitude    0.064013\n",
      "HGT_prl      0.017299\n",
      "APCP_sfc     0.006726\n",
      "dtype: float64\n"
     ]
    }
   ],
   "source": [
    "import pandas as pd\n",
    "from sklearn.ensemble import RandomForestRegressor\n",
    "\n",
    "# ⚡ Take only 10,000 rows for faster training\n",
    "sampled = data.sample(10000, random_state=42)\n",
    "\n",
    "# Features (X) and Target (y)\n",
    "X = sampled.drop(['time', 'TMP_2m'], axis=1)\n",
    "y = sampled['TMP_2m']\n",
    "\n",
    "# Train Random Forest (small model for speed)\n",
    "model = RandomForestRegressor(\n",
    "    n_estimators=50,   # fewer trees → faster\n",
    "    max_depth=10,      # limit depth\n",
    "    n_jobs=-1,         # use all CPU cores\n",
    "    random_state=42\n",
    ")\n",
    "model.fit(X, y)\n",
    "\n",
    "# Top 10 important features\n",
    "importances = pd.Series(model.feature_importances_, index=X.columns)\n",
    "print(importances.sort_values(ascending=False).head(10))\n"
   ]
  },
  {
   "cell_type": "code",
   "execution_count": 23,
   "id": "60fe38fd-ae26-4651-a39b-8fcd63d1b3ba",
   "metadata": {},
   "outputs": [
    {
     "name": "stdout",
     "output_type": "stream",
     "text": [
      "Top 10 Selected Features with Scores:\n",
      "     Feature         Score\n",
      "2    HGT_prl  11811.089381\n",
      "0   latitude   7735.936091\n",
      "5        lat   7735.936091\n",
      "3    TMP_prl   3396.539309\n",
      "1  longitude    263.187244\n",
      "6        lon    263.187244\n",
      "4   APCP_sfc     69.777314\n"
     ]
    },
    {
     "name": "stderr",
     "output_type": "stream",
     "text": [
      "C:\\Users\\Kurra Sriharsha\\AppData\\Local\\Programs\\Python\\Python313\\Lib\\site-packages\\sklearn\\feature_selection\\_univariate_selection.py:782: UserWarning: k=10 is greater than n_features=7. All the features will be returned.\n",
      "  warnings.warn(\n"
     ]
    }
   ],
   "source": [
    "from sklearn.feature_selection import f_regression\n",
    "\n",
    "# --- Feature Selection (Top 10) ---\n",
    "selector = SelectKBest(score_func=f_regression, k=10)\n",
    "X_new = selector.fit_transform(X, y)\n",
    "\n",
    "# Get selected feature names\n",
    "selected_features = X.columns[selector.get_support()]\n",
    "\n",
    "# Get their scores\n",
    "scores = selector.scores_[selector.get_support()]\n",
    "\n",
    "# Make a DataFrame\n",
    "feature_scores = pd.DataFrame({\n",
    "    \"Feature\": selected_features,\n",
    "    \"Score\": scores\n",
    "}).sort_values(by=\"Score\", ascending=False)\n",
    "\n",
    "print(\"Top 10 Selected Features with Scores:\")\n",
    "print(feature_scores)\n"
   ]
  },
  {
   "cell_type": "code",
   "execution_count": null,
   "id": "5faf27fd-6d29-4038-aac6-6cba03145c49",
   "metadata": {},
   "outputs": [],
   "source": []
  }
 ],
 "metadata": {
  "kernelspec": {
   "display_name": "Python 3 (ipykernel)",
   "language": "python",
   "name": "python3"
  },
  "language_info": {
   "codemirror_mode": {
    "name": "ipython",
    "version": 3
   },
   "file_extension": ".py",
   "mimetype": "text/x-python",
   "name": "python",
   "nbconvert_exporter": "python",
   "pygments_lexer": "ipython3",
   "version": "3.13.7"
  }
 },
 "nbformat": 4,
 "nbformat_minor": 5
}
